{
 "cells": [
  {
   "cell_type": "code",
   "execution_count": 1,
   "metadata": {},
   "outputs": [],
   "source": [
    "from http import HTTPStatus\n",
    "from dashscope import Application\n",
    "\n",
    "\n",
    "response = Application.call(app_id='9ec0a032b64c4a8ca3a53812148f2c64',\n",
    "                            prompt='我想做一下计划',\n",
    "                            api_key='sk-543852492eb747f7b8fd4a4904409ae7',\n",
    "                            )\n"
   ]
  },
  {
   "cell_type": "code",
   "execution_count": 2,
   "metadata": {},
   "outputs": [
    {
     "name": "stdout",
     "output_type": "stream",
     "text": [
      "request_id=cda3b9fd-a58d-9900-9d67-de49c097c13f\n",
      " output={\"text\": \"当然可以帮助您规划。请直接告诉我您的想法或者具体的安排细节，比如您想要规划的是日常工作、学习任务、健康计划、旅行安排还是其他任何项目。您可以分享诸如希望达成的目标、计划涉及的时间线、需要完成的具体任务、参与的人员或是任何相关的地点、资源需求等信息。我会根据您提供的内容，帮您整理出一个条理清晰、详尽可行的计划。无论是短期的日程还是长期的项目规划，都请尽管吩咐！\", \"finish_reason\": \"stop\", \"session_id\": \"8ef777a23dc54f30ab69f336f0da0ff5\", \"thoughts\": null, \"doc_references\": null}\n",
      " usage={\"models\": [{\"model_id\": \"qwen-max\", \"input_tokens\": 1068, \"output_tokens\": 101}]}\n",
      "\n"
     ]
    }
   ],
   "source": [
    "\n",
    "if response.status_code != HTTPStatus.OK:\n",
    "    print('request_id=%s, code=%s, message=%s\\n' % (response.request_id, response.status_code, response.message))\n",
    "else:\n",
    "    print('request_id=%s\\n output=%s\\n usage=%s\\n' % (response.request_id, response.output, response.usage))\n",
    "\n"
   ]
  },
  {
   "cell_type": "code",
   "execution_count": 4,
   "metadata": {},
   "outputs": [
    {
     "name": "stdout",
     "output_type": "stream",
     "text": [
      "request_id=5ee52adc-f228-9cf0-8524-fd9c45b7e485, output={\"text\": \"当然，您刚才的发言是：“我想做一下计划”。这表明您有意制定某个方面的计划，可能是个人日程、工作任务或者是其他类型的安排，而具体的内容和细节则等待进一步的阐述。如果您准备好提供更多信息，请随时告诉我，我将协助您进行详细的计划制定。\", \"finish_reason\": \"stop\", \"session_id\": \"8ef777a23dc54f30ab69f336f0da0ff5\", \"thoughts\": null, \"doc_references\": null}, usage={\"models\": [{\"model_id\": \"qwen-max\", \"input_tokens\": 1187, \"output_tokens\": 61}]}\n",
      "\n"
     ]
    }
   ],
   "source": [
    "response = Application.call(app_id='9ec0a032b64c4a8ca3a53812148f2c64',\n",
    "                            prompt='你能重复一下我刚才的提问么',\n",
    "                            api_key='sk-543852492eb747f7b8fd4a4904409ae7',\n",
    "                            session_id=response.output.session_id\n",
    "                            )\n",
    "if response.status_code != HTTPStatus.OK:\n",
    "    print('request_id=%s, code=%s, message=%s\\n' % (response.request_id, response.status_code, response.message))\n",
    "else:\n",
    "    print('request_id=%s, output=%s, usage=%s\\n' % (response.request_id, response.output, response.usage))\n"
   ]
  }
 ],
 "metadata": {
  "kernelspec": {
   "display_name": "todo",
   "language": "python",
   "name": "python3"
  },
  "language_info": {
   "codemirror_mode": {
    "name": "ipython",
    "version": 3
   },
   "file_extension": ".py",
   "mimetype": "text/x-python",
   "name": "python",
   "nbconvert_exporter": "python",
   "pygments_lexer": "ipython3",
   "version": "3.11.8"
  }
 },
 "nbformat": 4,
 "nbformat_minor": 2
}
